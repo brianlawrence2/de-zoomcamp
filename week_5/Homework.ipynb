{
 "cells": [
  {
   "cell_type": "markdown",
   "id": "238062d4",
   "metadata": {},
   "source": [
    "# Question 1\n",
    "\n",
    "scala> spark.version\n",
    "res0: String = 3.3.2"
   ]
  },
  {
   "cell_type": "markdown",
   "id": "f710a133",
   "metadata": {},
   "source": [
    "# Question 2"
   ]
  },
  {
   "cell_type": "code",
   "execution_count": 3,
   "id": "fe405a53",
   "metadata": {},
   "outputs": [],
   "source": [
    "import pyspark\n",
    "from pyspark.sql import SparkSession\n",
    "from pyspark.sql import types"
   ]
  },
  {
   "cell_type": "code",
   "execution_count": 2,
   "id": "3efb618d",
   "metadata": {},
   "outputs": [
    {
     "name": "stderr",
     "output_type": "stream",
     "text": [
      "Setting default log level to \"WARN\".\n",
      "To adjust logging level use sc.setLogLevel(newLevel). For SparkR, use setLogLevel(newLevel).\n"
     ]
    },
    {
     "name": "stdout",
     "output_type": "stream",
     "text": [
      "23/03/06 16:06:39 WARN NativeCodeLoader: Unable to load native-hadoop library for your platform... using builtin-java classes where applicable\n",
      "23/03/06 16:06:41 WARN Utils: Service 'SparkUI' could not bind on port 4040. Attempting port 4041.\n"
     ]
    }
   ],
   "source": [
    "spark = SparkSession.builder \\\n",
    "    .master(\"local[*]\") \\\n",
    "    .appName('test') \\\n",
    "    .getOrCreate()"
   ]
  },
  {
   "cell_type": "code",
   "execution_count": 16,
   "id": "70fa4ee6",
   "metadata": {},
   "outputs": [],
   "source": [
    "schema = types.StructType([\n",
    "    #types.StructField('hvfhs_license_num', types.StringType(), True),\n",
    "    types.StructField('dispatching_base_num', types.StringType(), True),\n",
    "    types.StructField('pickup_datetime', types.TimestampType(), True),\n",
    "    types.StructField('dropoff_datetime', types.TimestampType(), True),\n",
    "    types.StructField('PULocationID', types.IntegerType(), True),\n",
    "    types.StructField('DOLocationID', types.IntegerType(), True),\n",
    "    types.StructField('SR_Flag', types.StringType(), True),\n",
    "    types.StructField('Affiliated_base_number', types.StringType(), True)\n",
    "])"
   ]
  },
  {
   "cell_type": "code",
   "execution_count": 17,
   "id": "491dbdde",
   "metadata": {},
   "outputs": [],
   "source": [
    "df = spark.read \\\n",
    "    .option(\"header\", \"true\") \\\n",
    "    .schema(schema) \\\n",
    "    .csv('fhvhv_tripdata_2021-06.csv.gz')"
   ]
  },
  {
   "cell_type": "code",
   "execution_count": 18,
   "id": "bc34597c",
   "metadata": {},
   "outputs": [
    {
     "name": "stdout",
     "output_type": "stream",
     "text": [
      "root\n",
      " |-- dispatching_base_num: string (nullable = true)\n",
      " |-- pickup_datetime: timestamp (nullable = true)\n",
      " |-- dropoff_datetime: timestamp (nullable = true)\n",
      " |-- PULocationID: integer (nullable = true)\n",
      " |-- DOLocationID: integer (nullable = true)\n",
      " |-- SR_Flag: string (nullable = true)\n",
      " |-- Affiliated_base_number: string (nullable = true)\n",
      "\n"
     ]
    }
   ],
   "source": [
    "df.printSchema()"
   ]
  },
  {
   "cell_type": "code",
   "execution_count": 21,
   "id": "d1f34d10",
   "metadata": {},
   "outputs": [
    {
     "name": "stderr",
     "output_type": "stream",
     "text": [
      "[Stage 19:==========================================>              (9 + 3) / 12]\r"
     ]
    },
    {
     "name": "stdout",
     "output_type": "stream",
     "text": [
      "root\n",
      " |-- dispatching_base_num: string (nullable = true)\n",
      " |-- pickup_datetime: timestamp (nullable = true)\n",
      " |-- dropoff_datetime: timestamp (nullable = true)\n",
      " |-- PULocationID: integer (nullable = true)\n",
      " |-- DOLocationID: integer (nullable = true)\n",
      " |-- SR_Flag: string (nullable = true)\n",
      " |-- Affiliated_base_number: string (nullable = true)\n",
      "\n"
     ]
    },
    {
     "name": "stderr",
     "output_type": "stream",
     "text": [
      "                                                                                \r"
     ]
    }
   ],
   "source": [
    "df = df.repartition(12)\n",
    "df.write.mode('overwrite').parquet('fhvhv/2021/06/')\n",
    "df = spark.read.parquet('fhvhv/2021/06/')\n",
    "df.printSchema()"
   ]
  },
  {
   "cell_type": "code",
   "execution_count": 22,
   "id": "4158f805",
   "metadata": {},
   "outputs": [
    {
     "name": "stdout",
     "output_type": "stream",
     "text": [
      "total 284M\r\n",
      "-rw-r--r-- 1 Brian Brian  0M Mar  6 16:44 _SUCCESS\r\n",
      "-rw-r--r-- 1 Brian Brian 24M Mar  6 16:44 part-00000-a2b24d6a-811f-41e7-9a24-fdc6600ef9ea-c000.snappy.parquet\r\n",
      "-rw-r--r-- 1 Brian Brian 24M Mar  6 16:44 part-00001-a2b24d6a-811f-41e7-9a24-fdc6600ef9ea-c000.snappy.parquet\r\n",
      "-rw-r--r-- 1 Brian Brian 24M Mar  6 16:44 part-00002-a2b24d6a-811f-41e7-9a24-fdc6600ef9ea-c000.snappy.parquet\r\n",
      "-rw-r--r-- 1 Brian Brian 24M Mar  6 16:44 part-00003-a2b24d6a-811f-41e7-9a24-fdc6600ef9ea-c000.snappy.parquet\r\n",
      "-rw-r--r-- 1 Brian Brian 24M Mar  6 16:44 part-00004-a2b24d6a-811f-41e7-9a24-fdc6600ef9ea-c000.snappy.parquet\r\n",
      "-rw-r--r-- 1 Brian Brian 24M Mar  6 16:44 part-00005-a2b24d6a-811f-41e7-9a24-fdc6600ef9ea-c000.snappy.parquet\r\n",
      "-rw-r--r-- 1 Brian Brian 24M Mar  6 16:44 part-00006-a2b24d6a-811f-41e7-9a24-fdc6600ef9ea-c000.snappy.parquet\r\n",
      "-rw-r--r-- 1 Brian Brian 24M Mar  6 16:44 part-00007-a2b24d6a-811f-41e7-9a24-fdc6600ef9ea-c000.snappy.parquet\r\n",
      "-rw-r--r-- 1 Brian Brian 24M Mar  6 16:44 part-00008-a2b24d6a-811f-41e7-9a24-fdc6600ef9ea-c000.snappy.parquet\r\n",
      "-rw-r--r-- 1 Brian Brian 24M Mar  6 16:44 part-00009-a2b24d6a-811f-41e7-9a24-fdc6600ef9ea-c000.snappy.parquet\r\n",
      "-rw-r--r-- 1 Brian Brian 24M Mar  6 16:44 part-00010-a2b24d6a-811f-41e7-9a24-fdc6600ef9ea-c000.snappy.parquet\r\n",
      "-rw-r--r-- 1 Brian Brian 24M Mar  6 16:44 part-00011-a2b24d6a-811f-41e7-9a24-fdc6600ef9ea-c000.snappy.parquet\r\n"
     ]
    }
   ],
   "source": [
    "!ls -l --block-size=M fhvhv/2021/06"
   ]
  },
  {
   "cell_type": "code",
   "execution_count": 23,
   "id": "3bec0b8f",
   "metadata": {},
   "outputs": [
    {
     "name": "stdout",
     "output_type": "stream",
     "text": [
      "+--------------------+-------------------+-------------------+------------+------------+-------+----------------------+\n",
      "|dispatching_base_num|    pickup_datetime|   dropoff_datetime|PULocationID|DOLocationID|SR_Flag|Affiliated_base_number|\n",
      "+--------------------+-------------------+-------------------+------------+------------+-------+----------------------+\n",
      "|              B02889|2021-06-04 20:51:44|2021-06-04 21:10:12|         239|         158|      N|                B02889|\n",
      "|              B02800|2021-06-04 15:50:15|2021-06-04 16:19:29|          75|         116|      N|                  null|\n",
      "|              B02510|2021-06-02 21:03:38|2021-06-02 21:10:12|         167|         168|      N|                  null|\n",
      "|              B02867|2021-06-02 12:51:57|2021-06-02 13:05:09|         151|         142|      N|                B02867|\n",
      "|              B02869|2021-06-21 09:51:45|2021-06-21 10:09:17|         106|          65|      N|                B02869|\n",
      "|              B02764|2021-06-02 13:27:03|2021-06-02 13:38:20|         113|         148|      N|                B02764|\n",
      "|              B02764|2021-06-10 14:48:23|2021-06-10 16:06:10|         250|         239|      N|                B02764|\n",
      "|              B02510|2021-06-09 22:38:49|2021-06-09 23:11:58|         132|          33|      N|                  null|\n",
      "|              B02510|2021-06-26 06:50:43|2021-06-26 07:00:20|         238|         244|      N|                  null|\n",
      "|              B02872|2021-06-07 08:04:00|2021-06-07 08:40:25|         198|         234|      N|                B02872|\n",
      "|              B02765|2021-06-24 20:19:42|2021-06-24 20:38:22|         147|          42|      N|                B02765|\n",
      "|              B02884|2021-06-05 17:38:24|2021-06-05 18:05:30|         142|         232|      N|                B02884|\n",
      "|              B02765|2021-06-13 15:44:27|2021-06-13 16:04:38|          26|         165|      N|                B02765|\n",
      "|              B02510|2021-06-26 18:37:10|2021-06-26 18:56:01|         237|         145|      N|                  null|\n",
      "|              B02764|2021-06-23 14:44:10|2021-06-23 14:58:06|          45|          33|      N|                B02764|\n",
      "|              B02510|2021-06-20 02:11:32|2021-06-20 02:22:00|          49|          37|      N|                  null|\n",
      "|              B02764|2021-06-29 19:02:50|2021-06-29 19:05:25|         140|         140|      N|                B02764|\n",
      "|              B02875|2021-06-02 15:27:05|2021-06-02 15:37:27|          32|         185|      N|                B02875|\n",
      "|              B02882|2021-06-18 12:48:43|2021-06-18 12:58:22|          95|         134|      N|                B02882|\n",
      "|              B02510|2021-06-23 08:59:54|2021-06-23 09:44:49|         171|         140|      N|                  null|\n",
      "+--------------------+-------------------+-------------------+------------+------------+-------+----------------------+\n",
      "only showing top 20 rows\n",
      "\n"
     ]
    }
   ],
   "source": [
    "df.show()"
   ]
  },
  {
   "cell_type": "markdown",
   "id": "b8e6893f",
   "metadata": {},
   "source": [
    "# Question 3"
   ]
  },
  {
   "cell_type": "code",
   "execution_count": 24,
   "id": "9327a2b4",
   "metadata": {},
   "outputs": [],
   "source": [
    "df.registerTempTable('trips_data')"
   ]
  },
  {
   "cell_type": "code",
   "execution_count": 25,
   "id": "5793bb64",
   "metadata": {},
   "outputs": [
    {
     "name": "stderr",
     "output_type": "stream",
     "text": [
      "[Stage 22:==============>                                           (1 + 3) / 4]\r"
     ]
    },
    {
     "name": "stdout",
     "output_type": "stream",
     "text": [
      "+--------+\n",
      "|count(1)|\n",
      "+--------+\n",
      "|  452470|\n",
      "+--------+\n",
      "\n"
     ]
    },
    {
     "name": "stderr",
     "output_type": "stream",
     "text": [
      "                                                                                \r"
     ]
    }
   ],
   "source": [
    "spark.sql(\"\"\"\n",
    "SELECT\n",
    "    count(1)\n",
    "FROM\n",
    "    trips_data\n",
    "WHERE\n",
    "    CAST(pickup_datetime as DATE) = '2021-06-15'\n",
    "\"\"\").show()"
   ]
  },
  {
   "cell_type": "markdown",
   "id": "845bcf11",
   "metadata": {},
   "source": [
    "# Question 4"
   ]
  },
  {
   "cell_type": "code",
   "execution_count": 27,
   "id": "6c8852a8",
   "metadata": {},
   "outputs": [
    {
     "name": "stderr",
     "output_type": "stream",
     "text": [
      "[Stage 28:==============>                                           (1 + 3) / 4]\r"
     ]
    },
    {
     "name": "stdout",
     "output_type": "stream",
     "text": [
      "+----------------------------------------------------------------------------------------------------------------------------+\n",
      "|(max((unix_timestamp(dropoff_datetime, yyyy-MM-dd HH:mm:ss) - unix_timestamp(pickup_datetime, yyyy-MM-dd HH:mm:ss))) / 3600)|\n",
      "+----------------------------------------------------------------------------------------------------------------------------+\n",
      "|                                                                                                            66.8788888888889|\n",
      "+----------------------------------------------------------------------------------------------------------------------------+\n",
      "\n"
     ]
    },
    {
     "name": "stderr",
     "output_type": "stream",
     "text": [
      "                                                                                \r"
     ]
    }
   ],
   "source": [
    "spark.sql(\"\"\"\n",
    "SELECT\n",
    "    MAX(unix_timestamp(dropoff_datetime)-unix_timestamp(pickup_datetime)) / 3600\n",
    "FROM\n",
    "    trips_data\n",
    "WHERE\n",
    "\"\"\").show()"
   ]
  },
  {
   "cell_type": "markdown",
   "id": "ff9e3fdf",
   "metadata": {},
   "source": [
    "# Question 6"
   ]
  },
  {
   "cell_type": "code",
   "execution_count": 28,
   "id": "da0b910d",
   "metadata": {},
   "outputs": [],
   "source": [
    "df_zones = spark.read.parquet('zones/')"
   ]
  },
  {
   "cell_type": "code",
   "execution_count": 29,
   "id": "24b02661",
   "metadata": {},
   "outputs": [],
   "source": [
    "df_zones.registerTempTable('zones')"
   ]
  },
  {
   "cell_type": "code",
   "execution_count": 30,
   "id": "16de9e00",
   "metadata": {},
   "outputs": [
    {
     "name": "stdout",
     "output_type": "stream",
     "text": [
      "+----------+-------------+--------------------+------------+\n",
      "|LocationID|      Borough|                Zone|service_zone|\n",
      "+----------+-------------+--------------------+------------+\n",
      "|         1|          EWR|      Newark Airport|         EWR|\n",
      "|         2|       Queens|         Jamaica Bay|   Boro Zone|\n",
      "|         3|        Bronx|Allerton/Pelham G...|   Boro Zone|\n",
      "|         4|    Manhattan|       Alphabet City| Yellow Zone|\n",
      "|         5|Staten Island|       Arden Heights|   Boro Zone|\n",
      "|         6|Staten Island|Arrochar/Fort Wad...|   Boro Zone|\n",
      "|         7|       Queens|             Astoria|   Boro Zone|\n",
      "|         8|       Queens|        Astoria Park|   Boro Zone|\n",
      "|         9|       Queens|          Auburndale|   Boro Zone|\n",
      "|        10|       Queens|        Baisley Park|   Boro Zone|\n",
      "|        11|     Brooklyn|          Bath Beach|   Boro Zone|\n",
      "|        12|    Manhattan|        Battery Park| Yellow Zone|\n",
      "|        13|    Manhattan|   Battery Park City| Yellow Zone|\n",
      "|        14|     Brooklyn|           Bay Ridge|   Boro Zone|\n",
      "|        15|       Queens|Bay Terrace/Fort ...|   Boro Zone|\n",
      "|        16|       Queens|             Bayside|   Boro Zone|\n",
      "|        17|     Brooklyn|             Bedford|   Boro Zone|\n",
      "|        18|        Bronx|        Bedford Park|   Boro Zone|\n",
      "|        19|       Queens|           Bellerose|   Boro Zone|\n",
      "|        20|        Bronx|             Belmont|   Boro Zone|\n",
      "+----------+-------------+--------------------+------------+\n",
      "only showing top 20 rows\n",
      "\n"
     ]
    }
   ],
   "source": [
    "df_zones.show()"
   ]
  },
  {
   "cell_type": "code",
   "execution_count": 32,
   "id": "db151d00",
   "metadata": {},
   "outputs": [
    {
     "name": "stderr",
     "output_type": "stream",
     "text": [
      "[Stage 38:>                                                         (0 + 4) / 4]\r"
     ]
    },
    {
     "name": "stdout",
     "output_type": "stream",
     "text": [
      "+--------------------+------+\n",
      "|                Zone| trips|\n",
      "+--------------------+------+\n",
      "| Crown Heights North|231279|\n",
      "|        East Village|221244|\n",
      "|         JFK Airport|188867|\n",
      "|      Bushwick South|187929|\n",
      "|       East New York|186780|\n",
      "|TriBeCa/Civic Center|164344|\n",
      "|   LaGuardia Airport|161596|\n",
      "|            Union Sq|158937|\n",
      "|        West Village|154698|\n",
      "|             Astoria|152493|\n",
      "|     Lower East Side|151020|\n",
      "|        East Chelsea|147673|\n",
      "|Central Harlem North|146402|\n",
      "|Williamsburg (Nor...|143683|\n",
      "|          Park Slope|143594|\n",
      "|  Stuyvesant Heights|141427|\n",
      "|        Clinton East|139611|\n",
      "|West Chelsea/Huds...|139431|\n",
      "|             Bedford|138428|\n",
      "|         Murray Hill|137879|\n",
      "+--------------------+------+\n",
      "only showing top 20 rows\n",
      "\n"
     ]
    },
    {
     "name": "stderr",
     "output_type": "stream",
     "text": [
      "                                                                                \r"
     ]
    }
   ],
   "source": [
    "spark.sql(\"\"\"\n",
    "SELECT\n",
    "    zones.Zone,\n",
    "    COUNT(1) as trips\n",
    "FROM\n",
    "    trips_data\n",
    "INNER JOIN\n",
    "    zones\n",
    "ON\n",
    "    trips_data.PULocationID = zones.LocationID\n",
    "GROUP BY\n",
    "    zones.Zone\n",
    "ORDER BY \n",
    "    trips DESC\n",
    "\"\"\").show()"
   ]
  },
  {
   "cell_type": "code",
   "execution_count": null,
   "id": "28341455",
   "metadata": {},
   "outputs": [],
   "source": []
  }
 ],
 "metadata": {
  "kernelspec": {
   "display_name": "Python 3 (ipykernel)",
   "language": "python",
   "name": "python3"
  },
  "language_info": {
   "codemirror_mode": {
    "name": "ipython",
    "version": 3
   },
   "file_extension": ".py",
   "mimetype": "text/x-python",
   "name": "python",
   "nbconvert_exporter": "python",
   "pygments_lexer": "ipython3",
   "version": "3.9.13"
  }
 },
 "nbformat": 4,
 "nbformat_minor": 5
}
